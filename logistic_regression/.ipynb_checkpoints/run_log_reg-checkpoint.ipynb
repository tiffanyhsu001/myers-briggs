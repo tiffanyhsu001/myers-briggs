{
 "cells": [
  {
   "cell_type": "markdown",
   "metadata": {},
   "source": [
    "## Logistic Regression\n",
    "This notebook breaks down the myers briggs personality types into its 4 subcategories. Each of the subcategories is broken down into its own logistic regression predictive model."
   ]
  },
  {
   "cell_type": "code",
   "execution_count": 1,
   "metadata": {},
   "outputs": [
    {
     "name": "stderr",
     "output_type": "stream",
     "text": [
      "Using TensorFlow backend.\n"
     ]
    }
   ],
   "source": [
    "import numpy as np\n",
    "import pandas as pd\n",
    "from log_reg import log_reg\n",
    "import warnings\n",
    "warnings.filterwarnings('ignore')\n",
    "\n",
    "import os\n",
    "import sys\n",
    "dir = os.getcwd()\n",
    "data_path = os.path.sep.join(dir.split(os.path.sep)[:-1])"
   ]
  },
  {
   "cell_type": "code",
   "execution_count": 2,
   "metadata": {},
   "outputs": [],
   "source": [
    "mbti = pd.read_csv(data_path + '/mbti_updated.csv', index_col=0)\n",
    "\n",
    "x = mbti[['words_per_comment', 'var_word_cnts', 'question_marks', 'exclam_marks', 'ellipses_cnt',\n",
    "       'links_cnt', 'afinn_avg', 'noun_avg', 'verb_avg',\n",
    "       'polarity_avg', 'subj_avg']]"
   ]
  },
  {
   "cell_type": "markdown",
   "metadata": {},
   "source": [
    "## Introverted vs Extroverted"
   ]
  },
  {
   "cell_type": "code",
   "execution_count": 3,
   "metadata": {},
   "outputs": [
    {
     "data": {
      "image/png": "[encoded data removed]",
      "text/plain": [
       "<Figure size 576x288 with 1 Axes>"
      ]
     },
     "metadata": {
      "needs_background": "light"
     },
     "output_type": "display_data"
    }
   ],
   "source": [
    "y = mbti['I_E']\n",
    "\n",
    "l = log_reg(x,y)\n",
    "l.train_test_split()"
   ]
  },
  {
   "cell_type": "markdown",
   "metadata": {},
   "source": [
    "Clearly, the number of introverts is greater than extroverts, so we accounted for this with oversampling."
   ]
  },
  {
   "cell_type": "markdown",
   "metadata": {},
   "source": [
    "#### Creating the Model, Scoring"
   ]
  },
  {
   "cell_type": "code",
   "execution_count": 6,
   "metadata": {},
   "outputs": [
    {
     "name": "stdout",
     "output_type": "stream",
     "text": [
      "Accuracy using Logistic Regression with 10 fold cross validation : 0.77\n",
      "Scores from hold out test set:\n",
      "              precision    recall  f1-score   support\n",
      "\n",
      "           E       0.64      0.02      0.04       428\n",
      "           I       0.76      1.00      0.86      1307\n",
      "\n",
      "    accuracy                           0.76      1735\n",
      "   macro avg       0.70      0.51      0.45      1735\n",
      "weighted avg       0.73      0.76      0.66      1735\n",
      "\n"
     ]
    }
   ],
   "source": [
    "l.model()\n",
    "l.predict()\n",
    "l.scores()"
   ]
  },
  {
   "cell_type": "markdown",
   "metadata": {},
   "source": [
    "## Intuition vs. Sensing"
   ]
  },
  {
   "cell_type": "code",
   "execution_count": 7,
   "metadata": {},
   "outputs": [
    {
     "name": "stdout",
     "output_type": "stream",
     "text": [
      "length of oversampled data is  11938\n",
      "Number of I in oversampled data 0\n",
      "Number of S 5969\n",
      "Proportion of I data in oversampled data is  0.0\n",
      "Proportion of S data in oversampled data is  0.5\n"
     ]
    },
    {
     "data": {
      "image/png": "[encoded data removed]",
      "text/plain": [
       "<Figure size 576x288 with 1 Axes>"
      ]
     },
     "metadata": {
      "needs_background": "light"
     },
     "output_type": "display_data"
    }
   ],
   "source": [
    "y = mbti['N_S']\n",
    "\n",
    "l = log_reg(x,y)\n",
    "l.train_test_split()\n",
    "l.oversample('I', 'S')"
   ]
  },
  {
   "cell_type": "markdown",
   "metadata": {},
   "source": [
    "#### Modeling, Scoring"
   ]
  },
  {
   "cell_type": "code",
   "execution_count": 8,
   "metadata": {},
   "outputs": [
    {
     "name": "stdout",
     "output_type": "stream",
     "text": [
      "Accuracy using Logistic Regression with 10 fold cross validation : 0.54\n",
      "Scores from hold out test set:\n",
      "              precision    recall  f1-score   support\n",
      "\n",
      "           N       0.89      0.52      0.66      1509\n",
      "           S       0.16      0.59      0.25       226\n",
      "\n",
      "    accuracy                           0.53      1735\n",
      "   macro avg       0.52      0.55      0.45      1735\n",
      "weighted avg       0.80      0.53      0.60      1735\n",
      "\n"
     ]
    }
   ],
   "source": [
    "l.model()\n",
    "l.predict()\n",
    "l.scores()"
   ]
  },
  {
   "cell_type": "markdown",
   "metadata": {},
   "source": [
    "## Feeling vs. Thinking"
   ]
  },
  {
   "cell_type": "code",
   "execution_count": 9,
   "metadata": {},
   "outputs": [
    {
     "data": {
      "image/png": "[encoded data removed]",
      "text/plain": [
       "<Figure size 576x288 with 1 Axes>"
      ]
     },
     "metadata": {
      "needs_background": "light"
     },
     "output_type": "display_data"
    }
   ],
   "source": [
    "y = mbti['F_T']\n",
    "\n",
    "l = log_reg(x,y)\n",
    "l.train_test_split()"
   ]
  },
  {
   "cell_type": "markdown",
   "metadata": {},
   "source": [
    "#### Modeling, Scoring"
   ]
  },
  {
   "cell_type": "code",
   "execution_count": 10,
   "metadata": {},
   "outputs": [
    {
     "name": "stdout",
     "output_type": "stream",
     "text": [
      "Accuracy using Logistic Regression with 10 fold cross validation : 0.65\n",
      "Scores from hold out test set:\n",
      "              precision    recall  f1-score   support\n",
      "\n",
      "           F       0.67      0.70      0.69       934\n",
      "           T       0.63      0.59      0.61       801\n",
      "\n",
      "    accuracy                           0.65      1735\n",
      "   macro avg       0.65      0.65      0.65      1735\n",
      "weighted avg       0.65      0.65      0.65      1735\n",
      "\n"
     ]
    }
   ],
   "source": [
    "l.model()\n",
    "l.predict()\n",
    "l.scores()"
   ]
  },
  {
   "cell_type": "markdown",
   "metadata": {},
   "source": [
    "## Judging vs. Perceiving"
   ]
  },
  {
   "cell_type": "code",
   "execution_count": 11,
   "metadata": {},
   "outputs": [
    {
     "data": {
      "image/png": "[encoded data removed]",
      "text/plain": [
       "<Figure size 576x288 with 1 Axes>"
      ]
     },
     "metadata": {
      "needs_background": "light"
     },
     "output_type": "display_data"
    }
   ],
   "source": [
    "y = mbti['J_P']\n",
    "\n",
    "l = log_reg(x,y)\n",
    "l.train_test_split()"
   ]
  },
  {
   "cell_type": "markdown",
   "metadata": {},
   "source": [
    "#### Modeling, Scoring"
   ]
  },
  {
   "cell_type": "code",
   "execution_count": 12,
   "metadata": {},
   "outputs": [
    {
     "name": "stdout",
     "output_type": "stream",
     "text": [
      "Accuracy using Logistic Regression with 10 fold cross validation : 0.60\n",
      "Scores from hold out test set:\n",
      "              precision    recall  f1-score   support\n",
      "\n",
      "           J       0.36      0.01      0.01       677\n",
      "           P       0.61      0.99      0.75      1058\n",
      "\n",
      "    accuracy                           0.61      1735\n",
      "   macro avg       0.48      0.50      0.38      1735\n",
      "weighted avg       0.51      0.61      0.47      1735\n",
      "\n"
     ]
    }
   ],
   "source": [
    "l.model()\n",
    "l.predict()\n",
    "l.scores()"
   ]
  },
  {
   "cell_type": "markdown",
   "metadata": {},
   "source": [
    "### Results - Base Model, Based off Random Guessing/Commonality\n",
    "\n",
    "|Scoring| E vs I | I vs S | F vs T | J vs P  | Total       \n",
    "|---|---|---|---|---|---|\n",
    "|Guessing|0.5 | 0.5 | 0.5 | 0.5 | 0.0625\n",
    "|Commonality|0.77 | 0.86 | 0.54 | 0.60 | 0.214"
   ]
  },
  {
   "cell_type": "markdown",
   "metadata": {},
   "source": [
    "### Results - Log Reg\n",
    "\n",
    "|Scoring| E vs I | I vs S | F vs T | J vs P  | Total       \n",
    "|---|---|---|---|---|---|\n",
    "|Accuracy|0.76 | 0.53 | 0.66 | 0.61 | 0.162\n",
    "|Weighted F1|0.66 | 0.6 | 0.66 | 0.46 | 0.120"
   ]
  },
  {
   "cell_type": "markdown",
   "metadata": {},
   "source": [
    "Since our original data had imbalanced results between personality sub categories, it's important to use multiple metrics. F1 accounts for data imbalances. Clearly, logistic regression still does better than our random guessing model. However, perhaps there lines a nonlinear relationship that we need to further investigate.\n",
    "\n",
    "Next step: NN"
   ]
  },
  {
   "cell_type": "code",
   "execution_count": null,
   "metadata": {},
   "outputs": [],
   "source": []
  }
 ],
 "metadata": {
  "kernelspec": {
   "display_name": "Python 3",
   "language": "python",
   "name": "python3"
  },
  "language_info": {
   "codemirror_mode": {
    "name": "ipython",
    "version": 3
   },
   "file_extension": ".py",
   "mimetype": "text/x-python",
   "name": "python",
   "nbconvert_exporter": "python",
   "pygments_lexer": "ipython3",
   "version": "3.7.2"
  }
 },
 "nbformat": 4,
 "nbformat_minor": 1
}
